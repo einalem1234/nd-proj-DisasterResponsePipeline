{
 "cells": [
  {
   "cell_type": "markdown",
   "metadata": {},
   "source": [
    "# ML Pipeline Preparation\n",
    "Follow the instructions below to help you create your ML pipeline.\n",
    "### 1. Import libraries and load data from database.\n",
    "- Import Python libraries\n",
    "- Load dataset from database with [`read_sql_table`](https://pandas.pydata.org/pandas-docs/stable/generated/pandas.read_sql_table.html)\n",
    "- Define feature and target variables X and Y"
   ]
  },
  {
   "cell_type": "code",
   "execution_count": 37,
   "metadata": {},
   "outputs": [
    {
     "name": "stderr",
     "output_type": "stream",
     "text": [
      "[nltk_data] Downloading package punkt to\n",
      "[nltk_data]     C:\\Users\\User\\AppData\\Roaming\\nltk_data...\n",
      "[nltk_data]   Package punkt is already up-to-date!\n",
      "[nltk_data] Downloading package wordnet to\n",
      "[nltk_data]     C:\\Users\\User\\AppData\\Roaming\\nltk_data...\n",
      "[nltk_data]   Package wordnet is already up-to-date!\n",
      "[nltk_data] Downloading package averaged_perceptron_tagger to\n",
      "[nltk_data]     C:\\Users\\User\\AppData\\Roaming\\nltk_data...\n",
      "[nltk_data]   Package averaged_perceptron_tagger is already up-to-\n",
      "[nltk_data]       date!\n"
     ]
    },
    {
     "data": {
      "text/plain": [
       "True"
      ]
     },
     "execution_count": 37,
     "metadata": {},
     "output_type": "execute_result"
    }
   ],
   "source": [
    "import nltk\n",
    "nltk.download(['punkt', 'wordnet', 'averaged_perceptron_tagger'])"
   ]
  },
  {
   "cell_type": "code",
   "execution_count": 38,
   "metadata": {},
   "outputs": [],
   "source": [
    "# import libraries\n",
    "from nltk.tokenize import word_tokenize\n",
    "from nltk.stem import WordNetLemmatizer\n",
    "\n",
    "import pandas as pd\n",
    "import pickle\n",
    "import re\n",
    "\n",
    "from sklearn.ensemble import RandomForestClassifier\n",
    "from sklearn.feature_extraction.text import CountVectorizer, TfidfTransformer\n",
    "from sklearn.linear_model import LogisticRegression\n",
    "from sklearn.metrics import classification_report\n",
    "from sklearn.model_selection import train_test_split, GridSearchCV\n",
    "from sklearn.multioutput import MultiOutputClassifier\n",
    "from sklearn.pipeline import Pipeline, FeatureUnion\n",
    "\n",
    "\n",
    "from sqlalchemy import create_engine"
   ]
  },
  {
   "cell_type": "code",
   "execution_count": 39,
   "metadata": {},
   "outputs": [
    {
     "name": "stdout",
     "output_type": "stream",
     "text": [
      "Index(['id', 'message', 'original', 'genre', 'related', 'request', 'offer',\n",
      "       'aid_related', 'medical_help', 'medical_products', 'search_and_rescue',\n",
      "       'security', 'military', 'child_alone', 'water', 'food', 'shelter',\n",
      "       'clothing', 'money', 'missing_people', 'refugees', 'death', 'other_aid',\n",
      "       'infrastructure_related', 'transport', 'buildings', 'electricity',\n",
      "       'tools', 'hospitals', 'shops', 'aid_centers', 'other_infrastructure',\n",
      "       'weather_related', 'floods', 'storm', 'fire', 'earthquake', 'cold',\n",
      "       'other_weather', 'direct_report'],\n",
      "      dtype='object')\n"
     ]
    }
   ],
   "source": [
    "# load data from database\n",
    "engine = create_engine('sqlite:///../data/DisasterResponse.db')\n",
    "df = pd.read_sql_table('messages', engine)\n",
    "print(df.columns)\n",
    "\n",
    "df = df.dropna(axis = 0, how = 'any') # TODO - SHould not be needed\n",
    "#print(df.columns)\n",
    "X = df.message\n",
    "Y = df.drop(['id', 'message', 'original', 'genre'], axis = 1)"
   ]
  },
  {
   "cell_type": "code",
   "execution_count": 40,
   "metadata": {},
   "outputs": [
    {
     "name": "stdout",
     "output_type": "stream",
     "text": [
      "          id                                            message  \\\n",
      "12328  14671  Ghambat: Khairpur: 100s of villages submerged ...   \n",
      "12329  14673  Ghambat: Sindh: Volunteers needed : @ http://b...   \n",
      "12330  14675  shikarpur: Volunteers needed, food and medical...   \n",
      "12331  14676          Dadu: Needs water, food, medicines. boats   \n",
      "12333  14679  Umer kot: Sindh: Shelter and Camp needed as pe...   \n",
      "\n",
      "                                                original   genre  related  \\\n",
      "12328  GHAMBAT: KHAIRPUR: 100S GAVON MEIN PAANI MEY J...  direct        0   \n",
      "12329  Ghambat: Sindh: Razakaroon ki zaroorat hai : @...  direct        0   \n",
      "12330  shikarpur mein swanyasevak ki avyashaktha he.k...  direct        0   \n",
      "12331        JO KO KHANA, PAANI, DAWAYIAN, NAOV CHAHIYE.  direct        0   \n",
      "12333  Umer kot: Sindh: logon ko rehne ke liye ghar,s...  direct        0   \n",
      "\n",
      "       request  offer  aid_related  medical_help  medical_products  ...  \\\n",
      "12328        0      0            0             0                 0  ...   \n",
      "12329        0      0            0             0                 0  ...   \n",
      "12330        0      0            0             0                 0  ...   \n",
      "12331        0      0            0             0                 0  ...   \n",
      "12333        0      0            0             0                 0  ...   \n",
      "\n",
      "       aid_centers  other_infrastructure  weather_related  floods  storm  \\\n",
      "12328            0                     0                0       0      0   \n",
      "12329            0                     0                0       0      0   \n",
      "12330            0                     0                0       0      0   \n",
      "12331            0                     0                0       0      0   \n",
      "12333            0                     0                0       0      0   \n",
      "\n",
      "       fire  earthquake  cold  other_weather  direct_report  \n",
      "12328     0           0     0              0              0  \n",
      "12329     0           0     0              0              0  \n",
      "12330     0           0     0              0              0  \n",
      "12331     0           0     0              0              0  \n",
      "12333     0           0     0              0              0  \n",
      "\n",
      "[5 rows x 40 columns]\n"
     ]
    }
   ],
   "source": [
    "print(df.tail())"
   ]
  },
  {
   "cell_type": "markdown",
   "metadata": {},
   "source": [
    "### 2. Write a tokenization function to process your text data"
   ]
  },
  {
   "cell_type": "code",
   "execution_count": 41,
   "metadata": {},
   "outputs": [],
   "source": [
    "url_regex = 'http[s]?://(?:[a-zA-Z]|[0-9]|[$-_@.&+]|[!*\\(\\),]|(?:%[0-9a-fA-F][0-9a-fA-F]))+'\n",
    "\n",
    "def tokenize(text):\n",
    "    detected_urls = re.findall(url_regex, text)\n",
    "    for url in detected_urls:\n",
    "        text = text.replace(url, \"urlplaceholder\")\n",
    "\n",
    "    tokens = word_tokenize(text)\n",
    "    lemmatizer = WordNetLemmatizer()\n",
    "\n",
    "    clean_tokens = []\n",
    "    for tok in tokens:\n",
    "        clean_tok = lemmatizer.lemmatize(tok).lower().strip()\n",
    "        clean_tokens.append(clean_tok)\n",
    "\n",
    "    return clean_tokens"
   ]
  },
  {
   "cell_type": "markdown",
   "metadata": {},
   "source": [
    "### 3. Build a machine learning pipeline\n",
    "This machine pipeline should take in the `message` column as input and output classification results on the other 36 categories in the dataset. You may find the [MultiOutputClassifier](http://scikit-learn.org/stable/modules/generated/sklearn.multioutput.MultiOutputClassifier.html) helpful for predicting multiple target variables."
   ]
  },
  {
   "cell_type": "code",
   "execution_count": 42,
   "metadata": {},
   "outputs": [],
   "source": [
    "forest = RandomForestClassifier(n_estimators=100, random_state=1)\n",
    "\n",
    "pipeline = Pipeline([\n",
    "    ('vect', CountVectorizer(tokenizer=tokenize)),\n",
    "    ('tfidf', TfidfTransformer()),\n",
    "    ('classifier', MultiOutputClassifier(estimator = forest))\n",
    "])"
   ]
  },
  {
   "cell_type": "markdown",
   "metadata": {},
   "source": [
    "### 4. Train pipeline\n",
    "- Split data into train and test sets\n",
    "- Train pipeline"
   ]
  },
  {
   "cell_type": "code",
   "execution_count": 43,
   "metadata": {},
   "outputs": [
    {
     "name": "stdout",
     "output_type": "stream",
     "text": [
      "(10153,)\n",
      "(10153, 36)\n"
     ]
    }
   ],
   "source": [
    "print(X.shape)\n",
    "print(Y.shape)"
   ]
  },
  {
   "cell_type": "code",
   "execution_count": 44,
   "metadata": {},
   "outputs": [
    {
     "data": {
      "text/plain": [
       "Pipeline(memory=None,\n",
       "     steps=[('vect', CountVectorizer(analyzer='word', binary=False, decode_error='strict',\n",
       "        dtype=<class 'numpy.int64'>, encoding='utf-8', input='content',\n",
       "        lowercase=True, max_df=1.0, max_features=None, min_df=1,\n",
       "        ngram_range=(1, 1), preprocessor=None, stop_words=None,\n",
       "        strip...            oob_score=False, random_state=1, verbose=0, warm_start=False),\n",
       "           n_jobs=None))])"
      ]
     },
     "execution_count": 44,
     "metadata": {},
     "output_type": "execute_result"
    }
   ],
   "source": [
    "X_train, X_test, y_train, y_test = train_test_split(X, Y)\n",
    "\n",
    "pipeline.fit(X_train, y_train)\n"
   ]
  },
  {
   "cell_type": "markdown",
   "metadata": {},
   "source": [
    "### 5. Test your model\n",
    "Report the f1 score, precision and recall for each output category of the dataset. You can do this by iterating through the columns and calling sklearn's `classification_report` on each."
   ]
  },
  {
   "cell_type": "code",
   "execution_count": null,
   "metadata": {},
   "outputs": [],
   "source": [
    "y_pred = pipeline.predict(X_test)"
   ]
  },
  {
   "cell_type": "code",
   "execution_count": null,
   "metadata": {},
   "outputs": [
    {
     "name": "stdout",
     "output_type": "stream",
     "text": [
      "(2539,)\n",
      "y_test:  (2539,)\n",
      "              precision    recall  f1-score   support\n",
      "\n",
      "           0       1.00      1.00      1.00      2536\n",
      "           1       0.00      0.00      0.00         3\n",
      "\n",
      "   micro avg       1.00      1.00      1.00      2539\n",
      "   macro avg       0.50      0.50      0.50      2539\n",
      "weighted avg       1.00      1.00      1.00      2539\n",
      "\n",
      "              precision    recall  f1-score   support\n",
      "\n",
      "           0       1.00      1.00      1.00      2538\n",
      "           1       0.00      0.00      0.00         1\n",
      "\n",
      "   micro avg       1.00      1.00      1.00      2539\n",
      "   macro avg       0.50      0.50      0.50      2539\n",
      "weighted avg       1.00      1.00      1.00      2539\n",
      "\n",
      "              precision    recall  f1-score   support\n",
      "\n",
      "           0       1.00      1.00      1.00      2539\n",
      "\n",
      "   micro avg       1.00      1.00      1.00      2539\n",
      "   macro avg       1.00      1.00      1.00      2539\n",
      "weighted avg       1.00      1.00      1.00      2539\n",
      "\n",
      "              precision    recall  f1-score   support\n",
      "\n",
      "           0       1.00      1.00      1.00      2537\n",
      "           1       0.00      0.00      0.00         2\n",
      "\n",
      "   micro avg       1.00      1.00      1.00      2539\n",
      "   macro avg       0.50      0.50      0.50      2539\n",
      "weighted avg       1.00      1.00      1.00      2539\n",
      "\n",
      "              precision    recall  f1-score   support\n",
      "\n",
      "           0       1.00      1.00      1.00      2539\n",
      "\n",
      "   micro avg       1.00      1.00      1.00      2539\n",
      "   macro avg       1.00      1.00      1.00      2539\n",
      "weighted avg       1.00      1.00      1.00      2539\n",
      "\n",
      "              precision    recall  f1-score   support\n",
      "\n",
      "           0       1.00      1.00      1.00      2539\n",
      "\n",
      "   micro avg       1.00      1.00      1.00      2539\n",
      "   macro avg       1.00      1.00      1.00      2539\n",
      "weighted avg       1.00      1.00      1.00      2539\n",
      "\n",
      "              precision    recall  f1-score   support\n",
      "\n",
      "           0       1.00      1.00      1.00      2539\n",
      "\n",
      "   micro avg       1.00      1.00      1.00      2539\n",
      "   macro avg       1.00      1.00      1.00      2539\n",
      "weighted avg       1.00      1.00      1.00      2539\n",
      "\n",
      "              precision    recall  f1-score   support\n",
      "\n",
      "           0       1.00      1.00      1.00      2539\n",
      "\n",
      "   micro avg       1.00      1.00      1.00      2539\n",
      "   macro avg       1.00      1.00      1.00      2539\n",
      "weighted avg       1.00      1.00      1.00      2539\n",
      "\n",
      "              precision    recall  f1-score   support\n",
      "\n",
      "           0       1.00      1.00      1.00      2539\n",
      "\n",
      "   micro avg       1.00      1.00      1.00      2539\n",
      "   macro avg       1.00      1.00      1.00      2539\n",
      "weighted avg       1.00      1.00      1.00      2539\n",
      "\n",
      "              precision    recall  f1-score   support\n",
      "\n",
      "           0       1.00      1.00      1.00      2539\n",
      "\n",
      "   micro avg       1.00      1.00      1.00      2539\n",
      "   macro avg       1.00      1.00      1.00      2539\n",
      "weighted avg       1.00      1.00      1.00      2539\n",
      "\n",
      "              precision    recall  f1-score   support\n",
      "\n",
      "           0       1.00      1.00      1.00      2538\n",
      "           1       0.00      0.00      0.00         1\n",
      "\n",
      "   micro avg       1.00      1.00      1.00      2539\n",
      "   macro avg       0.50      0.50      0.50      2539\n",
      "weighted avg       1.00      1.00      1.00      2539\n",
      "\n",
      "              precision    recall  f1-score   support\n",
      "\n",
      "           0       1.00      1.00      1.00      2539\n",
      "\n",
      "   micro avg       1.00      1.00      1.00      2539\n",
      "   macro avg       1.00      1.00      1.00      2539\n",
      "weighted avg       1.00      1.00      1.00      2539\n",
      "\n",
      "              precision    recall  f1-score   support\n",
      "\n",
      "           0       1.00      1.00      1.00      2538\n",
      "           1       0.00      0.00      0.00         1\n",
      "\n",
      "   micro avg       1.00      1.00      1.00      2539\n",
      "   macro avg       0.50      0.50      0.50      2539\n",
      "weighted avg       1.00      1.00      1.00      2539\n",
      "\n",
      "              precision    recall  f1-score   support\n",
      "\n",
      "           0       1.00      1.00      1.00      2539\n",
      "\n",
      "   micro avg       1.00      1.00      1.00      2539\n",
      "   macro avg       1.00      1.00      1.00      2539\n",
      "weighted avg       1.00      1.00      1.00      2539\n",
      "\n",
      "              precision    recall  f1-score   support\n",
      "\n",
      "           0       1.00      1.00      1.00      2539\n",
      "\n",
      "   micro avg       1.00      1.00      1.00      2539\n",
      "   macro avg       1.00      1.00      1.00      2539\n",
      "weighted avg       1.00      1.00      1.00      2539\n",
      "\n",
      "              precision    recall  f1-score   support\n",
      "\n",
      "           0       1.00      1.00      1.00      2539\n",
      "\n",
      "   micro avg       1.00      1.00      1.00      2539\n",
      "   macro avg       1.00      1.00      1.00      2539\n",
      "weighted avg       1.00      1.00      1.00      2539\n",
      "\n",
      "              precision    recall  f1-score   support\n",
      "\n",
      "           0       1.00      1.00      1.00      2539\n",
      "\n",
      "   micro avg       1.00      1.00      1.00      2539\n",
      "   macro avg       1.00      1.00      1.00      2539\n",
      "weighted avg       1.00      1.00      1.00      2539\n",
      "\n",
      "              precision    recall  f1-score   support\n",
      "\n",
      "           0       1.00      1.00      1.00      2539\n",
      "\n",
      "   micro avg       1.00      1.00      1.00      2539\n",
      "   macro avg       1.00      1.00      1.00      2539\n",
      "weighted avg       1.00      1.00      1.00      2539\n",
      "\n",
      "              precision    recall  f1-score   support\n",
      "\n",
      "           0       1.00      1.00      1.00      2538\n",
      "           1       0.00      0.00      0.00         1\n",
      "\n",
      "   micro avg       1.00      1.00      1.00      2539\n",
      "   macro avg       0.50      0.50      0.50      2539\n",
      "weighted avg       1.00      1.00      1.00      2539\n",
      "\n",
      "              precision    recall  f1-score   support\n",
      "\n",
      "           0       1.00      1.00      1.00      2539\n",
      "\n",
      "   micro avg       1.00      1.00      1.00      2539\n",
      "   macro avg       1.00      1.00      1.00      2539\n",
      "weighted avg       1.00      1.00      1.00      2539\n",
      "\n",
      "              precision    recall  f1-score   support\n",
      "\n",
      "           0       1.00      1.00      1.00      2539\n",
      "\n",
      "   micro avg       1.00      1.00      1.00      2539\n",
      "   macro avg       1.00      1.00      1.00      2539\n",
      "weighted avg       1.00      1.00      1.00      2539\n",
      "\n",
      "              precision    recall  f1-score   support\n",
      "\n",
      "           0       1.00      1.00      1.00      2539\n",
      "\n",
      "   micro avg       1.00      1.00      1.00      2539\n",
      "   macro avg       1.00      1.00      1.00      2539\n",
      "weighted avg       1.00      1.00      1.00      2539\n",
      "\n"
     ]
    },
    {
     "name": "stderr",
     "output_type": "stream",
     "text": [
      "C:\\ProgramData\\Anaconda3\\envs\\env_udacity\\lib\\site-packages\\sklearn\\metrics\\classification.py:1143: UndefinedMetricWarning: Precision and F-score are ill-defined and being set to 0.0 in labels with no predicted samples.\n",
      "  'precision', 'predicted', average, warn_for)\n"
     ]
    },
    {
     "name": "stdout",
     "output_type": "stream",
     "text": [
      "              precision    recall  f1-score   support\n",
      "\n",
      "           0       1.00      1.00      1.00      2539\n",
      "\n",
      "   micro avg       1.00      1.00      1.00      2539\n",
      "   macro avg       1.00      1.00      1.00      2539\n",
      "weighted avg       1.00      1.00      1.00      2539\n",
      "\n",
      "              precision    recall  f1-score   support\n",
      "\n",
      "           0       1.00      1.00      1.00      2539\n",
      "\n",
      "   micro avg       1.00      1.00      1.00      2539\n",
      "   macro avg       1.00      1.00      1.00      2539\n",
      "weighted avg       1.00      1.00      1.00      2539\n",
      "\n",
      "              precision    recall  f1-score   support\n",
      "\n",
      "           0       1.00      1.00      1.00      2539\n",
      "\n",
      "   micro avg       1.00      1.00      1.00      2539\n",
      "   macro avg       1.00      1.00      1.00      2539\n",
      "weighted avg       1.00      1.00      1.00      2539\n",
      "\n",
      "              precision    recall  f1-score   support\n",
      "\n",
      "           0       1.00      1.00      1.00      2539\n",
      "\n",
      "   micro avg       1.00      1.00      1.00      2539\n",
      "   macro avg       1.00      1.00      1.00      2539\n",
      "weighted avg       1.00      1.00      1.00      2539\n",
      "\n",
      "              precision    recall  f1-score   support\n",
      "\n",
      "           0       1.00      1.00      1.00      2539\n",
      "\n",
      "   micro avg       1.00      1.00      1.00      2539\n",
      "   macro avg       1.00      1.00      1.00      2539\n",
      "weighted avg       1.00      1.00      1.00      2539\n",
      "\n",
      "              precision    recall  f1-score   support\n",
      "\n",
      "           0       1.00      1.00      1.00      2539\n",
      "\n",
      "   micro avg       1.00      1.00      1.00      2539\n",
      "   macro avg       1.00      1.00      1.00      2539\n",
      "weighted avg       1.00      1.00      1.00      2539\n",
      "\n",
      "              precision    recall  f1-score   support\n",
      "\n",
      "           0       1.00      1.00      1.00      2538\n",
      "           1       0.00      0.00      0.00         1\n",
      "\n",
      "   micro avg       1.00      1.00      1.00      2539\n",
      "   macro avg       0.50      0.50      0.50      2539\n",
      "weighted avg       1.00      1.00      1.00      2539\n",
      "\n",
      "              precision    recall  f1-score   support\n",
      "\n",
      "           0       1.00      1.00      1.00      2539\n",
      "\n",
      "   micro avg       1.00      1.00      1.00      2539\n",
      "   macro avg       1.00      1.00      1.00      2539\n",
      "weighted avg       1.00      1.00      1.00      2539\n",
      "\n",
      "              precision    recall  f1-score   support\n",
      "\n",
      "           0       1.00      1.00      1.00      2538\n",
      "           1       0.00      0.00      0.00         1\n",
      "\n",
      "   micro avg       1.00      1.00      1.00      2539\n",
      "   macro avg       0.50      0.50      0.50      2539\n",
      "weighted avg       1.00      1.00      1.00      2539\n",
      "\n",
      "              precision    recall  f1-score   support\n",
      "\n",
      "           0       1.00      1.00      1.00      2539\n",
      "\n",
      "   micro avg       1.00      1.00      1.00      2539\n",
      "   macro avg       1.00      1.00      1.00      2539\n",
      "weighted avg       1.00      1.00      1.00      2539\n",
      "\n",
      "              precision    recall  f1-score   support\n",
      "\n",
      "           0       1.00      1.00      1.00      2539\n",
      "\n",
      "   micro avg       1.00      1.00      1.00      2539\n",
      "   macro avg       1.00      1.00      1.00      2539\n",
      "weighted avg       1.00      1.00      1.00      2539\n",
      "\n",
      "              precision    recall  f1-score   support\n",
      "\n",
      "           0       1.00      1.00      1.00      2539\n",
      "\n",
      "   micro avg       1.00      1.00      1.00      2539\n",
      "   macro avg       1.00      1.00      1.00      2539\n",
      "weighted avg       1.00      1.00      1.00      2539\n",
      "\n",
      "              precision    recall  f1-score   support\n",
      "\n",
      "           0       1.00      1.00      1.00      2539\n",
      "\n",
      "   micro avg       1.00      1.00      1.00      2539\n",
      "   macro avg       1.00      1.00      1.00      2539\n",
      "weighted avg       1.00      1.00      1.00      2539\n",
      "\n",
      "              precision    recall  f1-score   support\n",
      "\n",
      "           0       1.00      1.00      1.00      2538\n",
      "           1       0.00      0.00      0.00         1\n",
      "\n",
      "   micro avg       1.00      1.00      1.00      2539\n",
      "   macro avg       0.50      0.50      0.50      2539\n",
      "weighted avg       1.00      1.00      1.00      2539\n",
      "\n"
     ]
    }
   ],
   "source": [
    "# TODO\n",
    "#print(y_pred.shape)\n",
    "y_pred_df = pd.DataFrame(y_pred, columns = y_test.columns)\n",
    "print(y_pred_df['fire'].shape)\n",
    "print(\"y_test: \", y_test['fire'].shape)\n",
    "\n",
    "for column in y_test.columns:\n",
    "#    print(column.upper())\n",
    "    #print(len(y_test[column].astype('int32').tolist()))\n",
    "    #print(type(y_pred[column].astype('int32').tolist()))\n",
    "    print(classification_report(y_true = y_test[column].astype('int32').tolist(), y_pred = y_pred_df[column].astype('int32').tolist()))\n",
    "\n",
    "#y_true_tmp = [0, 1, 2, 2, 2]\n",
    "#y_pred_tmp = [0, 0, 2, 2, 1]\n",
    "#target_names = ['class 0', 'class 1', 'class 2']\n",
    "#print(type(y_true_tmp[0]))\n",
    "#print(classification_report(y_true_tmp, y_pred_tmp))"
   ]
  },
  {
   "cell_type": "markdown",
   "metadata": {},
   "source": [
    "### 6. Improve your model\n",
    "Use grid search to find better parameters. "
   ]
  },
  {
   "cell_type": "code",
   "execution_count": null,
   "metadata": {},
   "outputs": [
    {
     "data": {
      "text/plain": [
       "dict_keys(['memory', 'steps', 'vect', 'tfidf', 'classifier', 'vect__analyzer', 'vect__binary', 'vect__decode_error', 'vect__dtype', 'vect__encoding', 'vect__input', 'vect__lowercase', 'vect__max_df', 'vect__max_features', 'vect__min_df', 'vect__ngram_range', 'vect__preprocessor', 'vect__stop_words', 'vect__strip_accents', 'vect__token_pattern', 'vect__tokenizer', 'vect__vocabulary', 'tfidf__norm', 'tfidf__smooth_idf', 'tfidf__sublinear_tf', 'tfidf__use_idf', 'classifier__estimator__bootstrap', 'classifier__estimator__class_weight', 'classifier__estimator__criterion', 'classifier__estimator__max_depth', 'classifier__estimator__max_features', 'classifier__estimator__max_leaf_nodes', 'classifier__estimator__min_impurity_decrease', 'classifier__estimator__min_impurity_split', 'classifier__estimator__min_samples_leaf', 'classifier__estimator__min_samples_split', 'classifier__estimator__min_weight_fraction_leaf', 'classifier__estimator__n_estimators', 'classifier__estimator__n_jobs', 'classifier__estimator__oob_score', 'classifier__estimator__random_state', 'classifier__estimator__verbose', 'classifier__estimator__warm_start', 'classifier__estimator', 'classifier__n_jobs'])"
      ]
     },
     "execution_count": 47,
     "metadata": {},
     "output_type": "execute_result"
    }
   ],
   "source": [
    "# Which parameters are available?\n",
    "pipeline.get_params().keys()"
   ]
  },
  {
   "cell_type": "code",
   "execution_count": null,
   "metadata": {},
   "outputs": [],
   "source": [
    "parameters = {\n",
    "    # ()'vect', CountVectorizer(tokenizer=tokenize))\n",
    "    'vect__stop_words': [None, 'english'],\n",
    "    # ('tfidf', TfidfTransformer())\n",
    "    'tfidf__use_idf': [True, False],\n",
    "    \n",
    "    #('classifier', MultiOutputClassifier(estimator = forest))\n",
    "    'classifier__estimator__n_estimators': [50,100],\n",
    "    'classifier__estimator__criterion': ['entropy', 'gini']\n",
    "}\n",
    "\n",
    "cv = GridSearchCV(pipeline, parameters)"
   ]
  },
  {
   "cell_type": "code",
   "execution_count": null,
   "metadata": {},
   "outputs": [
    {
     "name": "stderr",
     "output_type": "stream",
     "text": [
      "C:\\ProgramData\\Anaconda3\\envs\\env_udacity\\lib\\site-packages\\sklearn\\model_selection\\_split.py:2053: FutureWarning: You should specify a value for 'cv' instead of relying on the default value. The default value will change from 3 to 5 in version 0.22.\n",
      "  warnings.warn(CV_WARNING, FutureWarning)\n"
     ]
    }
   ],
   "source": [
    "cv.fit(X_train, y_train)\n",
    "y_pred = cv.predict(X_test)"
   ]
  },
  {
   "cell_type": "code",
   "execution_count": null,
   "metadata": {},
   "outputs": [],
   "source": [
    "print(\"Best parameters set found on development set:\")\n",
    "print(cv.best_params_)"
   ]
  },
  {
   "cell_type": "markdown",
   "metadata": {},
   "source": [
    "### 7. Test your model\n",
    "Show the accuracy, precision, and recall of the tuned model.  \n",
    "\n",
    "Since this project focuses on code quality, process, and  pipelines, there is no minimum performance metric needed to pass. However, make sure to fine tune your models for accuracy, precision and recall to make your project stand out - especially for your portfolio!"
   ]
  },
  {
   "cell_type": "code",
   "execution_count": null,
   "metadata": {},
   "outputs": [],
   "source": [
    "y_pred_df = pd.DataFrame(y_pred, columns = y_test.columns)\n",
    "\n",
    "for column in y_test.columns:\n",
    "    print(column.upper())\n",
    "    print(classification_report(y_true = y_test[column].astype('int32').tolist(), y_pred = y_pred_df[column].astype('int32').tolist()))"
   ]
  },
  {
   "cell_type": "markdown",
   "metadata": {},
   "source": [
    "### 8. Try improving your model further. Here are a few ideas:\n",
    "* try other machine learning algorithms\n",
    "* add other features besides the TF-IDF"
   ]
  },
  {
   "cell_type": "code",
   "execution_count": null,
   "metadata": {},
   "outputs": [],
   "source": []
  },
  {
   "cell_type": "markdown",
   "metadata": {},
   "source": [
    "### 9. Export your model as a pickle file"
   ]
  },
  {
   "cell_type": "code",
   "execution_count": null,
   "metadata": {},
   "outputs": [],
   "source": [
    "# save the model to disk\n",
    "filename = 'model.pkl'\n",
    "pickle.dump(cv, open(filename, 'wb'))"
   ]
  },
  {
   "cell_type": "markdown",
   "metadata": {},
   "source": [
    "### 10. Use this notebook to complete `train.py`\n",
    "Use the template file attached in the Resources folder to write a script that runs the steps above to create a database and export a model based on a new dataset specified by the user."
   ]
  },
  {
   "cell_type": "code",
   "execution_count": null,
   "metadata": {},
   "outputs": [],
   "source": []
  }
 ],
 "metadata": {
  "kernelspec": {
   "display_name": "Python 3",
   "language": "python",
   "name": "python3"
  }
 },
 "nbformat": 4,
 "nbformat_minor": 2
}
